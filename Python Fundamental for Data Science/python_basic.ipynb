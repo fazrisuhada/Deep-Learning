{
 "cells": [
  {
   "cell_type": "markdown",
   "id": "d18b7c50",
   "metadata": {},
   "source": [
    "## 1 Hello World"
   ]
  },
  {
   "cell_type": "code",
   "execution_count": null,
   "id": "2e3dbea0",
   "metadata": {},
   "outputs": [],
   "source": [
    "print(\"Hello World\")"
   ]
  },
  {
   "cell_type": "code",
   "execution_count": null,
   "id": "f87e75ee",
   "metadata": {},
   "outputs": [],
   "source": [
    "print(type(\"Hello World\"))"
   ]
  },
  {
   "cell_type": "code",
   "execution_count": null,
   "id": "6e560b54",
   "metadata": {},
   "outputs": [],
   "source": [
    "print(\"hello world\".upper())\n",
    "print(\"hello world\".lower())\n",
    "print(\"hello world\".title())"
   ]
  },
  {
   "cell_type": "code",
   "execution_count": null,
   "id": "6c7100ee",
   "metadata": {},
   "outputs": [],
   "source": [
    "print(\"Hello World\".count(\"l\"))"
   ]
  },
  {
   "cell_type": "code",
   "execution_count": null,
   "id": "10f51bb1",
   "metadata": {},
   "outputs": [],
   "source": [
    "print(\"Hello World\".replace(\"o\",\"i\"))"
   ]
  },
  {
   "cell_type": "markdown",
   "id": "387e92e2",
   "metadata": {},
   "source": [
    "# 2 Tipe Data"
   ]
  },
  {
   "cell_type": "code",
   "execution_count": null,
   "id": "67748e59",
   "metadata": {},
   "outputs": [],
   "source": [
    "x = 10\n",
    "print(type(x))"
   ]
  },
  {
   "cell_type": "code",
   "execution_count": null,
   "id": "d058d12c",
   "metadata": {},
   "outputs": [],
   "source": [
    "y = 10.5\n",
    "print(type(y))"
   ]
  },
  {
   "cell_type": "code",
   "execution_count": null,
   "id": "17346adf",
   "metadata": {},
   "outputs": [],
   "source": [
    "name = \"Fazri Suhada\"\n",
    "print(type)"
   ]
  },
  {
   "cell_type": "code",
   "execution_count": null,
   "id": "4a617b17",
   "metadata": {},
   "outputs": [],
   "source": [
    "status = True\n",
    "print(type(status))"
   ]
  },
  {
   "cell_type": "code",
   "execution_count": null,
   "id": "2993f498",
   "metadata": {},
   "outputs": [],
   "source": [
    "fruits = [\"Apel\", \"Salak\", \"Semangka\"]\n",
    "print(type(fruits))"
   ]
  },
  {
   "cell_type": "code",
   "execution_count": null,
   "id": "f24af6a4",
   "metadata": {},
   "outputs": [],
   "source": [
    "employee = {\"name\":\"Deni\", \"Age\": 31}\n",
    "print(type(employee))"
   ]
  },
  {
   "cell_type": "markdown",
   "id": "f67f1fbc",
   "metadata": {},
   "source": [
    "## 3. Variable"
   ]
  },
  {
   "cell_type": "code",
   "execution_count": null,
   "id": "d1737d46",
   "metadata": {},
   "outputs": [],
   "source": [
    "message_1 = \"I'm Learning Python\"\n",
    "message_1"
   ]
  },
  {
   "cell_type": "code",
   "execution_count": null,
   "id": "3b160d4b",
   "metadata": {},
   "outputs": [],
   "source": [
    "message_2 = \"And it's fun\"\n",
    "message_2"
   ]
  },
  {
   "cell_type": "code",
   "execution_count": null,
   "id": "f08fe7c8",
   "metadata": {},
   "outputs": [],
   "source": [
    "message_3 = message_1 + \" \" + message_2\n",
    "message_3"
   ]
  },
  {
   "cell_type": "code",
   "execution_count": null,
   "id": "9ffe25cf",
   "metadata": {},
   "outputs": [],
   "source": [
    "f\"{message_1} {message_2}\""
   ]
  },
  {
   "cell_type": "markdown",
   "id": "3f1e7d3a",
   "metadata": {},
   "source": [
    "## 4 List"
   ]
  },
  {
   "cell_type": "code",
   "execution_count": null,
   "id": "74b731e5",
   "metadata": {},
   "outputs": [],
   "source": [
    "countries = [\"Finlandia\", \"California\", \"Japan\", \"Australia\"]\n",
    "countries"
   ]
  },
  {
   "cell_type": "code",
   "execution_count": null,
   "id": "7fc2d58d",
   "metadata": {},
   "outputs": [],
   "source": [
    "print(countries[0])\n",
    "print(countries[1])\n",
    "print(countries[2])\n",
    "print(countries[3])"
   ]
  },
  {
   "cell_type": "code",
   "execution_count": null,
   "id": "85f050da",
   "metadata": {},
   "outputs": [],
   "source": [
    "print(countries[-1])\n",
    "print(countries[-4])"
   ]
  },
  {
   "cell_type": "code",
   "execution_count": null,
   "id": "b35ffcef",
   "metadata": {},
   "outputs": [],
   "source": [
    "print(len(countries))"
   ]
  },
  {
   "cell_type": "code",
   "execution_count": null,
   "id": "4dfb8469",
   "metadata": {},
   "outputs": [],
   "source": [
    "# slicing\n",
    "list_name[start:stop]"
   ]
  },
  {
   "cell_type": "code",
   "execution_count": null,
   "id": "629a0d18",
   "metadata": {},
   "outputs": [],
   "source": [
    "countries[0:3]"
   ]
  },
  {
   "cell_type": "code",
   "execution_count": null,
   "id": "3cf58831",
   "metadata": {},
   "outputs": [],
   "source": [
    "countries[0:1]"
   ]
  },
  {
   "cell_type": "code",
   "execution_count": null,
   "id": "e26106f3",
   "metadata": {},
   "outputs": [],
   "source": [
    "countries[1:4]"
   ]
  },
  {
   "cell_type": "code",
   "execution_count": null,
   "id": "cb8fe170",
   "metadata": {},
   "outputs": [],
   "source": [
    "countries[:2]"
   ]
  },
  {
   "cell_type": "markdown",
   "id": "1014b012",
   "metadata": {},
   "source": [
    "### 4.0.1 Menambahkan elemen ke dalam list"
   ]
  },
  {
   "cell_type": "code",
   "execution_count": null,
   "id": "e50d73ae",
   "metadata": {},
   "outputs": [],
   "source": [
    "countries.append(\"Rusia\")\n",
    "countries"
   ]
  },
  {
   "cell_type": "code",
   "execution_count": null,
   "id": "c2a5e064",
   "metadata": {},
   "outputs": [],
   "source": [
    "countries.insert(4,\"Austria\")\n",
    "countries"
   ]
  },
  {
   "cell_type": "code",
   "execution_count": null,
   "id": "bbe6de10",
   "metadata": {},
   "outputs": [],
   "source": [
    "countries_2 = [\"Ghana\", \"Spanyol\", \"Portugal\"]\n",
    "countries_2"
   ]
  },
  {
   "cell_type": "code",
   "execution_count": null,
   "id": "5a29fd81",
   "metadata": {},
   "outputs": [],
   "source": [
    "nested_list = countries + countries_2\n",
    "nested_list"
   ]
  },
  {
   "cell_type": "markdown",
   "id": "01c50705",
   "metadata": {},
   "source": [
    "### 4.0.2 Menghapus elemen di dalam list"
   ]
  },
  {
   "cell_type": "code",
   "execution_count": null,
   "id": "4acfc5c1",
   "metadata": {},
   "outputs": [],
   "source": [
    "countries"
   ]
  },
  {
   "cell_type": "code",
   "execution_count": null,
   "id": "f8789bdd",
   "metadata": {},
   "outputs": [],
   "source": [
    "countries.remove(\"Rusia\")\n",
    "countries"
   ]
  },
  {
   "cell_type": "code",
   "execution_count": null,
   "id": "f0f1e74d",
   "metadata": {},
   "outputs": [],
   "source": [
    "countries.pop(-1)\n",
    "countries"
   ]
  },
  {
   "cell_type": "code",
   "execution_count": null,
   "id": "890b22c4",
   "metadata": {},
   "outputs": [],
   "source": [
    "del countries[1]\n",
    "countries"
   ]
  },
  {
   "cell_type": "markdown",
   "id": "3cbd1f58",
   "metadata": {},
   "source": [
    "### 4.0.3 Sorting List"
   ]
  },
  {
   "cell_type": "code",
   "execution_count": null,
   "id": "8a74fb81",
   "metadata": {},
   "outputs": [],
   "source": [
    "numbers = [7, 5, 2, 10, 6, 8, 9, 1, 3, 4]\n",
    "numbers"
   ]
  },
  {
   "cell_type": "code",
   "execution_count": null,
   "id": "49cd7244",
   "metadata": {},
   "outputs": [],
   "source": [
    "numbers.sort()\n",
    "numbers"
   ]
  },
  {
   "cell_type": "code",
   "execution_count": null,
   "id": "0be6a9be",
   "metadata": {},
   "outputs": [],
   "source": [
    "numbers.sort(reverse=True)\n",
    "numbers"
   ]
  },
  {
   "cell_type": "markdown",
   "id": "db2d1340",
   "metadata": {},
   "source": [
    "### 4.0.3 Update List"
   ]
  },
  {
   "cell_type": "code",
   "execution_count": null,
   "id": "00241e13",
   "metadata": {},
   "outputs": [],
   "source": [
    "numbers[0] = 1000\n",
    "numbers"
   ]
  },
  {
   "cell_type": "markdown",
   "id": "d925c115",
   "metadata": {},
   "source": [
    "### 4.0.4 Copy List"
   ]
  },
  {
   "cell_type": "code",
   "execution_count": null,
   "id": "ca1c348c",
   "metadata": {},
   "outputs": [],
   "source": [
    "countries = [\"Finlandia\", \"California\", \"Japan\", \"Australia\"]\n",
    "countries_2 = countries.copy()\n",
    "countries_2"
   ]
  },
  {
   "cell_type": "markdown",
   "id": "cc7b5678",
   "metadata": {},
   "source": [
    "## 5 Dictionary"
   ]
  },
  {
   "cell_type": "code",
   "execution_count": null,
   "id": "e003f6d2",
   "metadata": {},
   "outputs": [],
   "source": [
    "dictonary = {\"key2\":\"value 1\", \"key2\":\"value 2\"}"
   ]
  },
  {
   "cell_type": "code",
   "execution_count": 2,
   "id": "85a868b4",
   "metadata": {},
   "outputs": [],
   "source": [
    "person = {\"name\":\"Budi\", \"age\":25}"
   ]
  },
  {
   "cell_type": "code",
   "execution_count": 3,
   "id": "98a46876",
   "metadata": {},
   "outputs": [
    {
     "data": {
      "text/plain": [
       "{'name': 'Budi', 'age': 25}"
      ]
     },
     "execution_count": 3,
     "metadata": {},
     "output_type": "execute_result"
    }
   ],
   "source": [
    "person"
   ]
  },
  {
   "cell_type": "code",
   "execution_count": null,
   "id": "2df00e3e",
   "metadata": {},
   "outputs": [],
   "source": [
    "person.keys()"
   ]
  },
  {
   "cell_type": "code",
   "execution_count": null,
   "id": "b335f3a9",
   "metadata": {},
   "outputs": [],
   "source": [
    "person.values()"
   ]
  },
  {
   "cell_type": "code",
   "execution_count": null,
   "id": "9f47b923",
   "metadata": {},
   "outputs": [],
   "source": [
    "person.items()"
   ]
  },
  {
   "cell_type": "code",
   "execution_count": null,
   "id": "f422ca4d",
   "metadata": {},
   "outputs": [],
   "source": [
    "person[\"gender\"] = \"Man\"\n",
    "person"
   ]
  },
  {
   "cell_type": "code",
   "execution_count": 10,
   "id": "9ab2fa99",
   "metadata": {},
   "outputs": [
    {
     "data": {
      "text/plain": [
       "{'name': 'Budi', 'age': 27, 'gender': 'Man'}"
      ]
     },
     "execution_count": 10,
     "metadata": {},
     "output_type": "execute_result"
    }
   ],
   "source": [
    "person.update({\"age\":27})\n",
    "person"
   ]
  },
  {
   "cell_type": "markdown",
   "id": "df460992",
   "metadata": {},
   "source": [
    "### 5.0.1 Copy Dictonary"
   ]
  },
  {
   "cell_type": "code",
   "execution_count": 11,
   "id": "3c835ccc",
   "metadata": {},
   "outputs": [
    {
     "data": {
      "text/plain": [
       "{'name': 'Budi', 'age': 27, 'gender': 'Man'}"
      ]
     },
     "execution_count": 11,
     "metadata": {},
     "output_type": "execute_result"
    }
   ],
   "source": [
    "copy_person = person.copy()\n",
    "copy_person"
   ]
  },
  {
   "cell_type": "markdown",
   "id": "8a0e5606",
   "metadata": {},
   "source": [
    "### 5.0.2 Remove Element"
   ]
  },
  {
   "cell_type": "code",
   "execution_count": null,
   "id": "f6460e4c",
   "metadata": {},
   "outputs": [
    {
     "data": {
      "text/plain": [
       "'Man'"
      ]
     },
     "execution_count": 12,
     "metadata": {},
     "output_type": "execute_result"
    }
   ],
   "source": [
    "person.pop(\"gender\")\n",
    "person"
   ]
  },
  {
   "cell_type": "code",
   "execution_count": 14,
   "id": "ce6f27e8",
   "metadata": {},
   "outputs": [
    {
     "data": {
      "text/plain": [
       "{'name': 'Budi'}"
      ]
     },
     "execution_count": 14,
     "metadata": {},
     "output_type": "execute_result"
    }
   ],
   "source": [
    "del person[\"age\"]\n",
    "person"
   ]
  },
  {
   "cell_type": "code",
   "execution_count": 15,
   "id": "3ed2b5ae",
   "metadata": {},
   "outputs": [
    {
     "data": {
      "text/plain": [
       "{}"
      ]
     },
     "execution_count": 15,
     "metadata": {},
     "output_type": "execute_result"
    }
   ],
   "source": [
    "person.clear()\n",
    "person"
   ]
  },
  {
   "cell_type": "markdown",
   "id": "c51a83aa",
   "metadata": {},
   "source": [
    "## 6. If Statement"
   ]
  },
  {
   "cell_type": "markdown",
   "id": "b7c1892b",
   "metadata": {},
   "source": [
    "if <condition>:\n",
    "    <code>\n",
    "elif <condition>:\n",
    "    <code>\n",
    "else:\n",
    "    <code>"
   ]
  },
  {
   "cell_type": "code",
   "execution_count": null,
   "id": "5d23ed94",
   "metadata": {},
   "outputs": [
    {
     "name": "stdout",
     "output_type": "stream",
     "text": [
      "You're Kid\n"
     ]
    }
   ],
   "source": [
    "age = 11\n",
    "\n",
    "if age >= 18:\n",
    "    print(\"You're Adult\")\n",
    "elif age >=12:\n",
    "    print(\"You're teenager\")\n",
    "else:\n",
    "    print(\"You're Kid\")"
   ]
  },
  {
   "cell_type": "markdown",
   "id": "d58446aa",
   "metadata": {},
   "source": [
    "## 7. For Loop"
   ]
  },
  {
   "cell_type": "markdown",
   "id": "00eef960",
   "metadata": {},
   "source": [
    "for <variabel> in <lists>:\n",
    "<code>"
   ]
  },
  {
   "cell_type": "code",
   "execution_count": 21,
   "id": "4bc59f6f",
   "metadata": {},
   "outputs": [
    {
     "name": "stdout",
     "output_type": "stream",
     "text": [
      "0 Rendang\n",
      "1 Sate\n",
      "2 Batagor\n",
      "3 Bakso\n"
     ]
    }
   ],
   "source": [
    "foods = [\"Rendang\", \"Sate\", \"Batagor\", \"Bakso\"]\n",
    "\n",
    "for i, food in enumerate(foods):\n",
    "    print(i, food)"
   ]
  },
  {
   "cell_type": "code",
   "execution_count": 22,
   "id": "ff7662c5",
   "metadata": {},
   "outputs": [
    {
     "name": "stdout",
     "output_type": "stream",
     "text": [
      "Lenovo Legion\n",
      "Asus Tuf\n",
      "Apple Mackbook Pro M2\n"
     ]
    }
   ],
   "source": [
    "laptops = {\"Lenovo\": \"Legion\", \"Asus\": \"Tuf\", \"Apple\": \"Mackbook Pro M2\"}\n",
    "\n",
    "for i, laptop in laptops.items():\n",
    "    print(i, laptop)"
   ]
  },
  {
   "cell_type": "markdown",
   "id": "7c24e997",
   "metadata": {},
   "source": [
    "## 8. Function"
   ]
  },
  {
   "cell_type": "markdown",
   "id": "4708f681",
   "metadata": {},
   "source": [
    "def function(<params>):\n",
    "    <code>\n",
    "    return <data>"
   ]
  },
  {
   "cell_type": "code",
   "execution_count": 24,
   "id": "59424144",
   "metadata": {},
   "outputs": [],
   "source": [
    "def sum_values(a,b):\n",
    "    x = a + b\n",
    "    return x"
   ]
  },
  {
   "cell_type": "code",
   "execution_count": 25,
   "id": "55b45791",
   "metadata": {},
   "outputs": [
    {
     "data": {
      "text/plain": [
       "12"
      ]
     },
     "execution_count": 25,
     "metadata": {},
     "output_type": "execute_result"
    }
   ],
   "source": [
    "sum_values(2,10)"
   ]
  },
  {
   "cell_type": "markdown",
   "id": "6c431285",
   "metadata": {},
   "source": [
    "### 8.1 Built-in Function"
   ]
  },
  {
   "cell_type": "code",
   "execution_count": 26,
   "id": "5f29bb23",
   "metadata": {},
   "outputs": [
    {
     "data": {
      "text/plain": [
       "4"
      ]
     },
     "execution_count": 26,
     "metadata": {},
     "output_type": "execute_result"
    }
   ],
   "source": [
    "drinks = [\"mineral water\", \"coffe\", \"tea\", \"milk\"]\n",
    "len(drinks)"
   ]
  },
  {
   "cell_type": "code",
   "execution_count": 27,
   "id": "494893c5",
   "metadata": {},
   "outputs": [
    {
     "data": {
      "text/plain": [
       "list"
      ]
     },
     "execution_count": 27,
     "metadata": {},
     "output_type": "execute_result"
    }
   ],
   "source": [
    "type(drinks)"
   ]
  },
  {
   "cell_type": "code",
   "execution_count": null,
   "id": "4adf84fe",
   "metadata": {},
   "outputs": [
    {
     "data": {
      "text/plain": [
       "100"
      ]
     },
     "execution_count": 29,
     "metadata": {},
     "output_type": "execute_result"
    }
   ],
   "source": [
    "max([10, 49, 33, 64, 27, 97, 100, 72, 86])"
   ]
  },
  {
   "cell_type": "code",
   "execution_count": 30,
   "id": "27fe5b05",
   "metadata": {},
   "outputs": [
    {
     "data": {
      "text/plain": [
       "10"
      ]
     },
     "execution_count": 30,
     "metadata": {},
     "output_type": "execute_result"
    }
   ],
   "source": [
    "min([10, 49, 33, 64, 27, 97, 100, 72, 86])"
   ]
  },
  {
   "cell_type": "code",
   "execution_count": 31,
   "id": "78d9454c",
   "metadata": {},
   "outputs": [
    {
     "name": "stdout",
     "output_type": "stream",
     "text": [
      "1\n",
      "3\n",
      "5\n",
      "7\n",
      "9\n"
     ]
    }
   ],
   "source": [
    "for i in range(1,10,2):\n",
    "    print(i)"
   ]
  },
  {
   "cell_type": "markdown",
   "id": "ee3d066d",
   "metadata": {},
   "source": [
    "## 9. Module"
   ]
  },
  {
   "cell_type": "markdown",
   "id": "54f11bb4",
   "metadata": {},
   "source": [
    "import"
   ]
  },
  {
   "cell_type": "markdown",
   "id": "8f49df99",
   "metadata": {},
   "source": [
    "### 9.1 OS Module"
   ]
  },
  {
   "cell_type": "code",
   "execution_count": 33,
   "id": "563d8c06",
   "metadata": {},
   "outputs": [],
   "source": [
    "import os"
   ]
  },
  {
   "cell_type": "code",
   "execution_count": 34,
   "id": "1193ee01",
   "metadata": {},
   "outputs": [
    {
     "data": {
      "text/plain": [
       "'d:\\\\room\\\\ngulik\\\\Deep Learning\\\\Python Fundamental for Data Science'"
      ]
     },
     "execution_count": 34,
     "metadata": {},
     "output_type": "execute_result"
    }
   ],
   "source": [
    "os.getcwd()"
   ]
  },
  {
   "cell_type": "code",
   "execution_count": 35,
   "id": "606f2d52",
   "metadata": {},
   "outputs": [
    {
     "data": {
      "text/plain": [
       "['python_basic.ipynb']"
      ]
     },
     "execution_count": 35,
     "metadata": {},
     "output_type": "execute_result"
    }
   ],
   "source": [
    "os.listdir()"
   ]
  }
 ],
 "metadata": {
  "kernelspec": {
   "display_name": "Python 3",
   "language": "python",
   "name": "python3"
  },
  "language_info": {
   "codemirror_mode": {
    "name": "ipython",
    "version": 3
   },
   "file_extension": ".py",
   "mimetype": "text/x-python",
   "name": "python",
   "nbconvert_exporter": "python",
   "pygments_lexer": "ipython3",
   "version": "3.13.7"
  }
 },
 "nbformat": 4,
 "nbformat_minor": 5
}

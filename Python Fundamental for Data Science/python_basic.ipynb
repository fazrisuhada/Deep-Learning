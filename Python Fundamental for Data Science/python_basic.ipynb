{
 "cells": [
  {
   "cell_type": "markdown",
   "id": "d18b7c50",
   "metadata": {},
   "source": [
    "# 1 Hello World"
   ]
  },
  {
   "cell_type": "code",
   "execution_count": null,
   "id": "2e3dbea0",
   "metadata": {},
   "outputs": [],
   "source": [
    "print(\"Hello World\")"
   ]
  },
  {
   "cell_type": "code",
   "execution_count": null,
   "id": "f87e75ee",
   "metadata": {},
   "outputs": [],
   "source": [
    "print(type(\"Hello World\"))"
   ]
  },
  {
   "cell_type": "code",
   "execution_count": null,
   "id": "6e560b54",
   "metadata": {},
   "outputs": [],
   "source": [
    "print(\"hello world\".upper())\n",
    "print(\"hello world\".lower())\n",
    "print(\"hello world\".title())"
   ]
  },
  {
   "cell_type": "code",
   "execution_count": null,
   "id": "6c7100ee",
   "metadata": {},
   "outputs": [],
   "source": [
    "print(\"Hello World\".count(\"l\"))"
   ]
  },
  {
   "cell_type": "code",
   "execution_count": null,
   "id": "10f51bb1",
   "metadata": {},
   "outputs": [],
   "source": [
    "print(\"Hello World\".replace(\"o\",\"i\"))"
   ]
  },
  {
   "cell_type": "markdown",
   "id": "387e92e2",
   "metadata": {},
   "source": [
    "# 2 Tipe Data"
   ]
  },
  {
   "cell_type": "code",
   "execution_count": 11,
   "id": "67748e59",
   "metadata": {},
   "outputs": [
    {
     "name": "stdout",
     "output_type": "stream",
     "text": [
      "<class 'int'>\n"
     ]
    }
   ],
   "source": [
    "x = 10\n",
    "print(type(x))"
   ]
  },
  {
   "cell_type": "code",
   "execution_count": 14,
   "id": "d058d12c",
   "metadata": {},
   "outputs": [
    {
     "name": "stdout",
     "output_type": "stream",
     "text": [
      "<class 'float'>\n"
     ]
    }
   ],
   "source": [
    "y = 10.5\n",
    "print(type(y))"
   ]
  },
  {
   "cell_type": "code",
   "execution_count": 12,
   "id": "17346adf",
   "metadata": {},
   "outputs": [
    {
     "name": "stdout",
     "output_type": "stream",
     "text": [
      "<class 'type'>\n"
     ]
    }
   ],
   "source": [
    "name = \"Fazri Suhada\"\n",
    "print(type)"
   ]
  },
  {
   "cell_type": "code",
   "execution_count": 13,
   "id": "4a617b17",
   "metadata": {},
   "outputs": [
    {
     "name": "stdout",
     "output_type": "stream",
     "text": [
      "<class 'bool'>\n"
     ]
    }
   ],
   "source": [
    "status = True\n",
    "print(type(status))"
   ]
  },
  {
   "cell_type": "code",
   "execution_count": 15,
   "id": "2993f498",
   "metadata": {},
   "outputs": [
    {
     "name": "stdout",
     "output_type": "stream",
     "text": [
      "<class 'list'>\n"
     ]
    }
   ],
   "source": [
    "fruits = [\"Apel\", \"Salak\", \"Semangka\"]\n",
    "print(type(fruits))"
   ]
  },
  {
   "cell_type": "code",
   "execution_count": 16,
   "id": "f24af6a4",
   "metadata": {},
   "outputs": [
    {
     "name": "stdout",
     "output_type": "stream",
     "text": [
      "<class 'dict'>\n"
     ]
    }
   ],
   "source": [
    "employee = {\"name\":\"Deni\", \"Age\": 31}\n",
    "print(type(employee))"
   ]
  }
 ],
 "metadata": {
  "kernelspec": {
   "display_name": "Python 3",
   "language": "python",
   "name": "python3"
  },
  "language_info": {
   "codemirror_mode": {
    "name": "ipython",
    "version": 3
   },
   "file_extension": ".py",
   "mimetype": "text/x-python",
   "name": "python",
   "nbconvert_exporter": "python",
   "pygments_lexer": "ipython3",
   "version": "3.13.7"
  }
 },
 "nbformat": 4,
 "nbformat_minor": 5
}
